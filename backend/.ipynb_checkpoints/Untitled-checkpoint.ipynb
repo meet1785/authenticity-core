{
 "cells": [
  {
   "cell_type": "code",
   "execution_count": null,
   "id": "c5f5d528-daef-4eb1-9e89-b66674082428",
   "metadata": {},
   "outputs": [],
   "source": [
    "import tensorflow as tf\n",
    "from tensorflow.keras.applications import EfficientNetB0\n",
    "from tensorflow.keras.preprocessing import image\n",
    "import numpy as np\n",
    "import tensorflow as tf\n",
    "import numpy as np\n",
    "import cv2\n",
    "import base64\n",
    "from io import BytesIO\n",
    "from PIL import Image\n",
    "import matplotlib.pyplot as plt\n",
    "\n",
    "\n",
    "vgg16 = tf.keras.models.load_model(r\"./models/vgg16_standalone_authnet.keras\")\n",
    "cnn = tf.keras.models.load_model(r\"./models/cnn_standalone.keras\")\n",
    "effnet = tf.keras.models.load_model(r\"./models/effnet_standalone_authnet.keras\")\n"
   ]
  },
  {
   "cell_type": "code",
   "execution_count": null,
   "id": "c9347e83-aae9-47b8-92ae-b074843f1957",
   "metadata": {},
   "outputs": [],
   "source": [
    "\n",
    "def generate_gradcam_vgg16(img_array, target_size=(224, 224), intensity=0.4):\n",
    "    model = tf.keras.models.load_model(r\"./models/vgg16_standalone_authnet.keras\")\n",
    "    \n",
    "    # Resize + preprocess for VGG16\n",
    "    img_resized = cv2.resize(img_array, target_size)\n",
    "    x = np.expand_dims(img_resized, axis=0)\n",
    "\n",
    "    # Build grad model\n",
    "    grad_model = tf.keras.models.Model(\n",
    "        [model.inputs],\n",
    "        [model.get_layer('top_conv').output, model.output]\n",
    "    )\n",
    "\n",
    "    # Forward + backward pass\n",
    "    with tf.GradientTape() as tape:\n",
    "        conv_outputs, predictions = grad_model(x)\n",
    "        class_idx = tf.argmax(predictions[0])\n",
    "        loss = predictions[:, class_idx]\n",
    "\n",
    "    grads = tape.gradient(loss, conv_outputs)\n",
    "    pooled_grads = tf.reduce_mean(grads, axis=(0, 1, 2))\n",
    "\n",
    "    # Generate heatmap\n",
    "    conv_outputs = conv_outputs[0]\n",
    "    heatmap = conv_outputs @ pooled_grads[..., tf.newaxis]\n",
    "    heatmap = tf.squeeze(heatmap)\n",
    "    heatmap = tf.maximum(heatmap, 0) / tf.math.reduce_max(heatmap)\n",
    "\n",
    "    # Resize heatmap to match original image\n",
    "    heatmap = cv2.resize(heatmap.numpy(), (img_array.shape[1], img_array.shape[0]))\n",
    "    heatmap = np.uint8(255 * heatmap)\n",
    "    heatmap = cv2.applyColorMap(heatmap, cv2.COLORMAP_JET)\n",
    "\n",
    "    # Overlay\n",
    "    superimposed_img = heatmap * intensity + img_array\n",
    "    superimposed_img = np.clip(superimposed_img, 0, 255).astype(np.uint8)\n",
    "\n",
    "    # Convert to Base64 string\n",
    "    pil_img = Image.fromarray(superimposed_img)\n",
    "    buffer = BytesIO()\n",
    "    pil_img.save(buffer, format=\"JPEG\")\n",
    "    gradcam_vgg16 = base64.b64encode(buffer.getvalue()).decode(\"utf-8\")\n",
    "\n",
    "    return gradcam_vgg16\n"
   ]
  },
  {
   "cell_type": "code",
   "execution_count": null,
   "id": "c4669552-0d09-492c-bdcb-500d29cc4329",
   "metadata": {},
   "outputs": [],
   "source": [
    "img_path = r\"C:\\Users\\HP\\OneDrive\\Desktop\\DeepFake Dataset\\Data Set\\test_ds\\fake\\0BLEO0FWIY.jpg\"\n",
    "img = image.load_img(img_path, target_size=(224, 224))\n",
    "x = image.img_to_array(img)\n",
    "gradcam_base64 = generate_gradcam_vgg16(x)"
   ]
  },
  {
   "cell_type": "code",
   "execution_count": null,
   "id": "7ba9aaf6-9be3-4203-bf58-0a69c3df349d",
   "metadata": {},
   "outputs": [],
   "source": [
    "gradcam_bytes = base64.b64decode(gradcam_base64)\n",
    "gradcam_img = Image.open(BytesIO(gradcam_bytes))\n",
    "gradcam_array = np.array(gradcam_img)\n",
    "\n",
    "# ---- Display with matplotlib ----\n",
    "plt.imshow(gradcam_array)\n",
    "plt.axis(\"off\")\n",
    "plt.title(\"Grad-CAM Result\")\n",
    "plt.show()\n",
    "\n",
    "# ---- OR display with OpenCV (BGR window) ----\n",
    "cv2.imshow(\"Grad-CAM\", cv2.cvtColor(gradcam_array, cv2.COLOR_RGB2BGR))\n",
    "cv2.waitKey(0)\n",
    "cv2.destroyAllWindows()"
   ]
  },
  {
   "cell_type": "code",
   "execution_count": null,
   "id": "8721f1e9-9acf-4848-8c77-984ad1bb7b36",
   "metadata": {},
   "outputs": [],
   "source": []
  }
 ],
 "metadata": {
  "kernelspec": {
   "display_name": "Python 3 (ipykernel)",
   "language": "python",
   "name": "python3"
  },
  "language_info": {
   "codemirror_mode": {
    "name": "ipython",
    "version": 3
   },
   "file_extension": ".py",
   "mimetype": "text/x-python",
   "name": "python",
   "nbconvert_exporter": "python",
   "pygments_lexer": "ipython3",
   "version": "3.11.7"
  }
 },
 "nbformat": 4,
 "nbformat_minor": 5
}
